{
 "cells": [
  {
   "cell_type": "markdown",
   "metadata": {},
   "source": [
    "This is the first project of the Greedy-tech NLP Camp. Our goal is to understand each part of the NLP task and build a retrieval-based QA system.\n",
    "The organization of this project is as follows:\n",
    "Part 1: build a word segmentation tool with the enumeration method\n",
    "part 2: apply the Viterbi algorithm to decrease the time complexity\n",
    "part 3: understand the dataset, which involves the question-answer pair\n",
    "part 4: text preprocessing\n",
    "part 5: word representation with tf-idf method\n",
    "part 6: find the top 5 answers to a testing question by comparing the testing question's cosine similarity with the questions in the data set\n",
    "part 7: apply the inverted index to decrease the time complexity\n",
    "part 8: replace the tf-idf word representation with the word2vec method\n"
   ]
  },
  {
   "cell_type": "markdown",
   "metadata": {},
   "source": [
    "part 1: build a word segmentation tool with the enumeration method \n",
    "The given data includes:\n",
    "1) one Chinese dictionary, dic.xlsx\n",
    "2) part of the words' probability. For other words' probability, if the word exists in the dictionary, then the probability is 0.00001, otherwise 0."
   ]
  },
  {
   "cell_type": "code",
   "execution_count": 1,
   "metadata": {},
   "outputs": [
    {
     "name": "stdout",
     "output_type": "stream",
     "text": [
      "True\n",
      "1.0000000000000002\n"
     ]
    }
   ],
   "source": [
    "# use set to store the dictionary and check the given probability\n",
    "import pandas as pd\n",
    "dic_words = pd.read_excel('data\\dic.xlsx',header=None)   \n",
    "dic_set = set(dic_words[0])\n",
    "print('羊肚子' in dic_set)\n",
    "\n",
    "word_prob = {\"北京\":0.03,\"的\":0.08,\"天\":0.005,\"气\":0.005,\"天气\":0.06,\"真\":0.04,\"好\":0.05,\"真好\":0.04,\"啊\":0.01,\"真好啊\":0.02, \n",
    "             \"今\":0.01,\"今天\":0.07,\"课程\":0.06,\"内容\":0.06,\"有\":0.05,\"很\":0.03,\"很有\":0.04,\"意思\":0.06,\"有意思\":0.005,\"课\":0.01,\n",
    "             \"程\":0.005,\"经常\":0.08,\"意见\":0.08,\"意\":0.01,\"见\":0.005,\"有意见\":0.02,\"分歧\":0.04,\"分\":0.02, \"歧\":0.005}\n",
    "\n",
    "print (sum(word_prob.values()))"
   ]
  },
  {
   "cell_type": "code",
   "execution_count": 6,
   "metadata": {},
   "outputs": [],
   "source": [
    "# build a naive word segmentation tool and check the results\n",
    "import math\n",
    "def word_segment_naive(input_str):\n",
    "    \"\"\"\n",
    "    input chinese words and output its best segmentation.\n",
    "    use dfs to do exploration search\n",
    "    \"\"\"\n",
    "    best_score = 1e10       \n",
    "    segments = helper(input_str)\n",
    "    for st in segments:\n",
    "        score = 0\n",
    "        for each in st:\n",
    "            score -= math.log(word_prob.get(each,0.00001))\n",
    "        if score < best_score:\n",
    "            best_score = score\n",
    "            best_segment = st  \n",
    "\n",
    "    return best_segment"
   ]
  },
  {
   "cell_type": "code",
   "execution_count": 4,
   "metadata": {},
   "outputs": [],
   "source": [
    "def helper(input_str):\n",
    "    if(len(input_str) == 0):\n",
    "        return[[]]\n",
    "    else:\n",
    "        res = []\n",
    "        for i in range(1,len(input_str)+1):\n",
    "            if(input_str[:i] in dic_set):\n",
    "                tmp = helper(input_str[i:])\n",
    "                for j in tmp:\n",
    "                    res.append([input_str[:i]] + j)\n",
    "        return res"
   ]
  },
  {
   "cell_type": "code",
   "execution_count": 5,
   "metadata": {},
   "outputs": [
    {
     "data": {
      "text/plain": [
       "[['今', '天', '天', '气', '好'],\n",
       " ['今', '天', '天气', '好'],\n",
       " ['今', '天天', '气', '好'],\n",
       " ['今天', '天', '气', '好'],\n",
       " ['今天', '天气', '好']]"
      ]
     },
     "execution_count": 5,
     "metadata": {},
     "output_type": "execute_result"
    }
   ],
   "source": [
    "helper(\"今天天气好\")"
   ]
  },
  {
   "cell_type": "code",
   "execution_count": 7,
   "metadata": {},
   "outputs": [
    {
     "name": "stdout",
     "output_type": "stream",
     "text": [
      "['今天', '天气', '好']\n",
      "['今天', '的', '课程', '内容', '很', '有意思']\n",
      "['经常', '有', '意见', '分歧']\n"
     ]
    }
   ],
   "source": [
    "#test\n",
    "print(word_segment_naive(\"今天天气好\"))\n",
    "print(word_segment_naive(\"今天的课程内容很有意思\"))\n",
    "print(word_segment_naive(\"经常有意见分歧\"))"
   ]
  },
  {
   "cell_type": "markdown",
   "metadata": {},
   "source": [
    "time complexity: O(2^n), space complexity: O(2^n)"
   ]
  },
  {
   "cell_type": "markdown",
   "metadata": {},
   "source": [
    "part 2: apply the Viterbi algorithm to decrease the time complexity\n"
   ]
  },
  {
   "cell_type": "code",
   "execution_count": 15,
   "metadata": {},
   "outputs": [],
   "source": [
    "word_prob.update(\n",
    "{word:0.00001 for word in dic_set if word not in word_prob.keys()}\n",
    ")\n",
    "word_score = {word: -math.log(word_prob[word]) for word in word_prob.keys()}"
   ]
  },
  {
   "cell_type": "code",
   "execution_count": 18,
   "metadata": {},
   "outputs": [],
   "source": [
    "import collections\n",
    "def get_graph(input_str):\n",
    "    graph = collections.OrderedDict()\n",
    "    for i in range(len(input_str) + 1):\n",
    "        if i not in graph: \n",
    "            graph[i] = {}\n",
    "        for j in range(i):\n",
    "            if input_str[j:i] in word_score.keys():\n",
    "                graph[i][j] = word_score[input_str[j:i]]\n",
    "    return graph"
   ]
  },
  {
   "cell_type": "code",
   "execution_count": 19,
   "metadata": {
    "scrolled": true
   },
   "outputs": [
    {
     "name": "stdout",
     "output_type": "stream",
     "text": [
      "OrderedDict([(0, {}), (1, {0: 4.605170185988091}), (2, {0: 2.659260036932778, 1: 5.298317366548036}), (3, {1: 11.512925464970229, 2: 5.298317366548036}), (4, {2: 2.8134107167600364, 3: 5.298317366548036}), (5, {4: 2.995732273553991})])\n"
     ]
    }
   ],
   "source": [
    "print(get_graph(\"今天天气好\"))"
   ]
  },
  {
   "cell_type": "code",
   "execution_count": 34,
   "metadata": {},
   "outputs": [],
   "source": [
    "def get_best_path(graph):\n",
    "    score = {0:0}\n",
    "    path = {}\n",
    "    for i in graph.keys():\n",
    "        if graph[i]:\n",
    "            for j in graph[i].keys():\n",
    "                if i not in score.keys() or score[i] > graph[i][j] + score[j]:\n",
    "                    score[i] = graph[i][j] + score[j]\n",
    "                    path[i] = j\n",
    "    return path"
   ]
  },
  {
   "cell_type": "code",
   "execution_count": 35,
   "metadata": {
    "scrolled": true
   },
   "outputs": [
    {
     "name": "stdout",
     "output_type": "stream",
     "text": [
      "{1: 0, 2: 0, 3: 2, 4: 2, 5: 4}\n"
     ]
    }
   ],
   "source": [
    "graph = get_graph(\"今天天气好\")\n",
    "print(get_best_path(graph))"
   ]
  },
  {
   "cell_type": "code",
   "execution_count": 36,
   "metadata": {},
   "outputs": [],
   "source": [
    "def path_to_segment(path, input_str):\n",
    "    \"\"\"\n",
    "    input chinese string and output the best segmentation\n",
    "    build the graph first and then use the viterbi to solve it\n",
    "    \"\"\"\n",
    "    segment = []\n",
    "    i = len(input_str)\n",
    "    while i > 0:\n",
    "        segment = [input_str[path[i] : i]] + segment\n",
    "        i = path[i]\n",
    "    #segment.reverse()\n",
    "    return segment"
   ]
  },
  {
   "cell_type": "code",
   "execution_count": 37,
   "metadata": {},
   "outputs": [
    {
     "name": "stdout",
     "output_type": "stream",
     "text": [
      "['今天', '天气', '好']\n"
     ]
    }
   ],
   "source": [
    "graph = get_graph(\"今天天气好\")\n",
    "path = get_best_path(graph)\n",
    "print(path_to_segment(path, \"今天天气好\"))"
   ]
  },
  {
   "cell_type": "code",
   "execution_count": 42,
   "metadata": {},
   "outputs": [],
   "source": [
    "def word_segment_viterbi(input_str):\n",
    "    graph = get_graph(input_str)\n",
    "    path = get_best_path(graph)\n",
    "    segment = path_to_segment(path, input_str)\n",
    "    return segment                 \n"
   ]
  },
  {
   "cell_type": "code",
   "execution_count": 43,
   "metadata": {},
   "outputs": [
    {
     "name": "stdout",
     "output_type": "stream",
     "text": [
      "['北京', '的', '天气', '真好啊']\n",
      "['今天', '的', '课程', '内容', '很有', '意思']\n",
      "['经常', '有意见', '分歧']\n"
     ]
    }
   ],
   "source": [
    "#test\n",
    "print(word_segment_viterbi(\"北京的天气真好啊\"))\n",
    "print(word_segment_viterbi(\"今天的课程内容很有意思\"))\n",
    "print(word_segment_viterbi(\"经常有意见分歧\"))"
   ]
  },
  {
   "cell_type": "markdown",
   "metadata": {},
   "source": [
    "time complexity: O(n^2), space complexity: O(n^2)"
   ]
  },
  {
   "cell_type": "markdown",
   "metadata": {},
   "source": [
    "Potential further improvement:\n",
    "1) the current probability is calculated based on the collected documents. We can consider more data to get more accurate probability\n",
    "2) one-order markov is nor precise\n",
    "3) it can not deal with polysemy\n",
    "4) if the words do not exist in the dictionary, these words can not be segmented correctly."
   ]
  },
  {
   "cell_type": "markdown",
   "metadata": {},
   "source": [
    "part 3:understand the dataset, which involves the question-answer pair\n",
    "From this part, we start build our retrieval-based QA system.\n",
    "The given data includes:\n",
    "1) dev-v2.0.json file includes the question-answer pair"
   ]
  },
  {
   "cell_type": "code",
   "execution_count": 3,
   "metadata": {},
   "outputs": [
    {
     "name": "stderr",
     "output_type": "stream",
     "text": [
      "[nltk_data] Downloading package wordnet to\n",
      "[nltk_data]     C:\\Users\\dwang\\AppData\\Roaming\\nltk_data...\n",
      "[nltk_data]   Unzipping corpora\\wordnet.zip.\n",
      "[nltk_data] Downloading package stopwords to\n",
      "[nltk_data]     C:\\Users\\dwang\\AppData\\Roaming\\nltk_data...\n",
      "[nltk_data]   Package stopwords is already up-to-date!\n"
     ]
    }
   ],
   "source": [
    "import json\n",
    "from collections import defaultdict\n",
    "from matplotlib import pyplot as plt\n",
    "from nltk.corpus import wordnet, stopwords\n",
    "from nltk.stem import WordNetLemmatizer\n",
    "from nltk import word_tokenize, pos_tag, sent_tokenize\n",
    "from sklearn.feature_extraction.text import TfidfVectorizer\n",
    "import heapq\n",
    "import numpy as np\n",
    "import re\n",
    "from scipy.spatial.distance import cosine as cosdist\n",
    "import nltk\n",
    "nltk.download('wordnet')\n",
    "nltk.download('stopwords')\n",
    "nltk.download('averaged_perceptron_tagger')\n",
    "qa_corpus_path = './data/train-v2.0.json'\n",
    "glove_path = \"./data/glove.6B.100d.txt\""
   ]
  },
  {
   "cell_type": "code",
   "execution_count": 4,
   "metadata": {},
   "outputs": [],
   "source": [
    "# read file and plot the data\n",
    "def read_corpus():\n",
    "    with open(qa_corpus_path, 'r', encoding='utf-8') as fp:\n",
    "        json_corpus = json.load(fp)['data']\n",
    "    qlist = []; alist = []\n",
    "    for item in json_corpus:\n",
    "        for para in item[\"paragraphs\"]:\n",
    "            for qa in para[\"qas\"]:\n",
    "                qlist.append(qa[\"question\"])\n",
    "                try:\n",
    "                    alist.append(qa[\"answers\"][0][\"text\"])\n",
    "                except IndexError:\n",
    "                    qlist.pop()\n",
    "                \n",
    "    assert len(qlist) == len(alist) \n",
    "    return qlist, alist\n",
    "    "
   ]
  },
  {
   "cell_type": "code",
   "execution_count": 73,
   "metadata": {},
   "outputs": [
    {
     "data": {
      "text/plain": [
       "'When did Beyonce start becoming popular?'"
      ]
     },
     "execution_count": 73,
     "metadata": {},
     "output_type": "execute_result"
    }
   ],
   "source": [
    "qlist, alist = read_corpus()\n",
    "qlist[0]"
   ]
  },
  {
   "cell_type": "code",
   "execution_count": 6,
   "metadata": {},
   "outputs": [
    {
     "data": {
      "text/plain": [
       "'in the late 1990s'"
      ]
     },
     "execution_count": 6,
     "metadata": {},
     "output_type": "execute_result"
    }
   ],
   "source": [
    "alist[0]"
   ]
  },
  {
   "cell_type": "code",
   "execution_count": 10,
   "metadata": {},
   "outputs": [],
   "source": [
    "def get_dict(textlist):\n",
    "    \"\"\"\n",
    "    input sentence list, and output word dict {word, #counts}\n",
    "    \"\"\"\n",
    "    word_dict = defaultdict(lambda:0)\n",
    "    for text in textlist:\n",
    "        for token in text.split(\" \"):\n",
    "            word_dict[token] += 1\n",
    "    word_dict = sorted(word_dict.items(), key=lambda item:item[1], reverse=True)\n",
    "    return dict(word_dict)\n",
    "            "
   ]
  },
  {
   "cell_type": "code",
   "execution_count": 14,
   "metadata": {},
   "outputs": [],
   "source": [
    "def get_topk(n, word_dict):\n",
    "    \"\"\"\n",
    "    return the most frequent n words from the dict\n",
    "    \"\"\"\n",
    "    res=[]\n",
    "    for word, freq in word_dict.items():\n",
    "        res.append(\"{}({})\".format(word,freq))\n",
    "        n-=1;\n",
    "        if n == 0:\n",
    "            return res "
   ]
  },
  {
   "cell_type": "code",
   "execution_count": 74,
   "metadata": {},
   "outputs": [
    {
     "name": "stdout",
     "output_type": "stream",
     "text": [
      "There are 903411 words and 63780 distinct tokens\n"
     ]
    }
   ],
   "source": [
    "# data statistics analysis\n",
    "q_dict = get_dict(qlist)\n",
    "word_total_q = sum(q_dict.values())\n",
    "n_distinct_words_q = len(q_dict)\n",
    "print(\"There are {} words and {} distinct tokens\".format(word_total_q, n_distinct_words_q))"
   ]
  },
  {
   "cell_type": "code",
   "execution_count": 18,
   "metadata": {},
   "outputs": [
    {
     "data": {
      "text/plain": [
       "<BarContainer object of 10000 artists>"
      ]
     },
     "execution_count": 18,
     "metadata": {},
     "output_type": "execute_result"
    },
    {
     "data": {
      "image/png": "[encoded data removed]",
      "text/plain": [
       "<Figure size 432x288 with 1 Axes>"
      ]
     },
     "metadata": {
      "needs_background": "light"
     },
     "output_type": "display_data"
    }
   ],
   "source": [
    "plt.bar(np.arange(10000), list(q_dict.values())[:10000])"
   ]
  },
  {
   "cell_type": "code",
   "execution_count": 19,
   "metadata": {
    "scrolled": true
   },
   "outputs": [
    {
     "data": {
      "text/plain": [
       "<BarContainer object of 10000 artists>"
      ]
     },
     "execution_count": 19,
     "metadata": {},
     "output_type": "execute_result"
    },
    {
     "data": {
      "image/png": "[encoded data removed]",
      "text/plain": [
       "<Figure size 432x288 with 1 Axes>"
      ]
     },
     "metadata": {
      "needs_background": "light"
     },
     "output_type": "display_data"
    }
   ],
   "source": [
    "plt.bar(np.arange(10000), list(q_dict.values())[100:10100])"
   ]
  },
  {
   "cell_type": "markdown",
   "metadata": {},
   "source": [
    "The above figure satisfies the zipf's law."
   ]
  },
  {
   "cell_type": "markdown",
   "metadata": {},
   "source": [
    "part 4: text preprocessing"
   ]
  },
  {
   "cell_type": "code",
   "execution_count": 75,
   "metadata": {},
   "outputs": [],
   "source": [
    "#preprocessing\n",
    "\"\"\"\n",
    "1. we use the lemmatizer instead of the stemming method. Because stemming method\n",
    "is build based on rules while lemmatizer can return the original words.\n",
    "eg:\n",
    "leaves---stemming---leav , usually the returned is not a word\n",
    "leaves---lemmatizer---leaf\n",
    "2. we use #num to replace all tnumbers in the corpus\n",
    "3. transfer all words to starting with the small letters.\n",
    "4. filter the words with stopwords provided by nltk\n",
    "5. remove meanless symbols\n",
    "6. remove low frequency words\n",
    "7. filter the most frequent and lowest frequent words\n",
    "\"\"\"\n",
    "class TextNormalizer:\n",
    "    def __init__(self, stopwords_set, filter_vocab, re_cleaners):\n",
    "        self.lemmatizer = WordNetLemmatizer()\n",
    "        self.filter_vocab = filter_vocab\n",
    "        self.stopwords = stopwords_set\n",
    "        self.re_cleaners = re_cleaners\n",
    "    def get_wordnet_pos(self, treebank_tag):\n",
    "        if treebank_tag.startswith('J'):\n",
    "            return wordnet.ADJ\n",
    "        elif treebank_tag.startswith('V'):\n",
    "            return wordnet.VERB\n",
    "        elif treebank_tag.startswith('N'):\n",
    "            return wordnet.NOUN\n",
    "        elif treebank_tag.startswith('R'):\n",
    "            return wordnet.ADV\n",
    "        else:\n",
    "            return ''\n",
    "    def normalize_texts(self, text_list):\n",
    "        return [self.normalize_text(text) for text in text_list]\n",
    "    def normalize_text(self, text):\n",
    "        for re_pattern in self.re_cleaners:\n",
    "            text = re.sub(re_pattern, \" \", text)\n",
    "        pos_tokens = pos_tag(word_tokenize(text))\n",
    "        lemmatized = []\n",
    "        for w, pos in pos_tokens:\n",
    "            if not w or w in self.stopwords or w in self.filter_vocab: continue\n",
    "            if pos == 'CD':\n",
    "                lemmatized.append(\"#NUM\")\n",
    "                continue\n",
    "            wn_pos = self.get_wordnet_pos(pos)\n",
    "            if wn_pos:\n",
    "                lemmatized.append(self.lemmatizer.lemmatize(w, pos=wn_pos))\n",
    "            else:\n",
    "                lemmatized.append(self.lemmatizer.lemmatize(w))\n",
    "        return \" \".join(lemmatized).lower()"
   ]
  },
  {
   "cell_type": "code",
   "execution_count": 76,
   "metadata": {},
   "outputs": [],
   "source": [
    "stwset = set(stopwords.words('english'))\n",
    "stwset.update({'-s','-ly','</s>','\\'s','\\'\\'', '\\''})\n",
    "threshold_lower = 1\n",
    "threshold_upper = 1e4\n",
    "re_pats = [r'[?|!|\\'|\"#]',r'[.|,|)|(|\\|/]']\n",
    "filter_words = {w for w, freq in q_dict.items() if freq <= threshold_lower or freq >= threshold_upper}\n",
    "text_normalizer = TextNormalizer(stwset, filter_words, re_pats)\n",
    "qlist = text_normalizer.normalize_texts(qlist)"
   ]
  },
  {
   "cell_type": "markdown",
   "metadata": {},
   "source": [
    "1.here I choose the threshold to be 1. Because at least 50% of the words appear once. Many odd experssions, symbols and strange characters appear once.\n",
    "2.inorder to keep the readablity of the answer, I do not normalize the answer list here."
   ]
  },
  {
   "cell_type": "code",
   "execution_count": null,
   "metadata": {},
   "outputs": [],
   "source": [
    "\"\"\"\n",
    "from nltk.stem import PorterStemmer\n",
    "ps = PorterStemmer()\n",
    "for word in word_tokenize(text):\n",
    "    word = ps.stem(word.lower())\n",
    "\"\"\"\n"
   ]
  },
  {
   "cell_type": "code",
   "execution_count": null,
   "metadata": {},
   "outputs": [],
   "source": []
  },
  {
   "cell_type": "markdown",
   "metadata": {},
   "source": [
    "part 5: word representation with tf-idf method"
   ]
  },
  {
   "cell_type": "code",
   "execution_count": 77,
   "metadata": {},
   "outputs": [
    {
     "data": {
      "text/plain": [
       "'\\ntf-idf adv: easy, fast, understandable\\ndisadv: can not consider the context, position, pos and etc\\nsometimes the key words appear one or two times\\nX is stored in sparse matrix form\\n'"
      ]
     },
     "execution_count": 77,
     "metadata": {},
     "output_type": "execute_result"
    }
   ],
   "source": [
    "# word expression with tfidf\n",
    "vectorizer = TfidfVectorizer()\n",
    "X = vectorizer.fit_transform(qlist)\n",
    "\"\"\"\n",
    "tf-idf adv: easy, fast, understandable\n",
    "disadv: can not consider the context, position, pos and etc\n",
    "sometimes the key words appear one or two times\n",
    "X is stored in sparse matrix form\n",
    "\"\"\""
   ]
  },
  {
   "cell_type": "code",
   "execution_count": 78,
   "metadata": {
    "scrolled": true
   },
   "outputs": [
    {
     "data": {
      "text/plain": [
       "0.9999999988142327"
      ]
     },
     "execution_count": 78,
     "metadata": {},
     "output_type": "execute_result"
    }
   ],
   "source": [
    "# check the sparsity\n",
    "sparsity = np.divide(np.prod(X.shape) - len(X.nonzero()), np.prod(X.shape))\n",
    "sparsity"
   ]
  },
  {
   "cell_type": "markdown",
   "metadata": {},
   "source": [
    "part 6: find the top 5 answers to a testing question by comparing the testing question's cosine similarity with the questions in the data set"
   ]
  },
  {
   "cell_type": "code",
   "execution_count": 79,
   "metadata": {},
   "outputs": [],
   "source": [
    "# find the top5 answer\n",
    "def top5results(input_q, K=5):\n",
    "    \"\"\"\n",
    "    input strings, return top5 strings\n",
    "    use cos to measure the similarity\n",
    "    use pq to find kth largest\n",
    "    \"\"\"\n",
    "    if not input_q or type(input_q)!= type(\"\"):\n",
    "        print(\"input error\")\n",
    "        return\n",
    "    input_q = text_normalizer.normalize_text(input_q)\n",
    "    q_vec = vectorizer.transform([input_q]).todense()\n",
    "    top_k_indices, top_idx = [], []\n",
    "    for i in range(X.shape[0]):\n",
    "        similarity = 1 - cosdist(X[i,:].todense(), q_vec)\n",
    "        similarity = 0 if np.isnan(similarity) else similarity\n",
    "        if len(top_k_indices) == K:\n",
    "            heapq.heappushpop(top_k_indices,(similarity, i))\n",
    "        else:\n",
    "            heapq.heappush(top_k_indices, (similarity, i))\n",
    "    top_idxs = sorted(top_k_indices, reverse=True)\n",
    "    _, top_idxs = zip(*top_idxs[::-1])\n",
    "    return [alist[id] for id in top_idxs]"
   ]
  },
  {
   "cell_type": "code",
   "execution_count": 80,
   "metadata": {},
   "outputs": [
    {
     "name": "stderr",
     "output_type": "stream",
     "text": [
      "C:\\Users\\dwang\\anaconda3\\lib\\site-packages\\scipy\\spatial\\distance.py:714: RuntimeWarning: invalid value encountered in double_scalars\n",
      "  dist = 1.0 - uv / np.sqrt(uu * vv)\n",
      "C:\\Users\\dwang\\anaconda3\\lib\\site-packages\\scipy\\spatial\\distance.py:714: RuntimeWarning: invalid value encountered in double_scalars\n",
      "  dist = 1.0 - uv / np.sqrt(uu * vv)\n",
      "C:\\Users\\dwang\\anaconda3\\lib\\site-packages\\scipy\\spatial\\distance.py:714: RuntimeWarning: invalid value encountered in double_scalars\n",
      "  dist = 1.0 - uv / np.sqrt(uu * vv)\n",
      "C:\\Users\\dwang\\anaconda3\\lib\\site-packages\\scipy\\spatial\\distance.py:714: RuntimeWarning: invalid value encountered in double_scalars\n",
      "  dist = 1.0 - uv / np.sqrt(uu * vv)\n",
      "C:\\Users\\dwang\\anaconda3\\lib\\site-packages\\scipy\\spatial\\distance.py:714: RuntimeWarning: invalid value encountered in double_scalars\n",
      "  dist = 1.0 - uv / np.sqrt(uu * vv)\n",
      "C:\\Users\\dwang\\anaconda3\\lib\\site-packages\\scipy\\spatial\\distance.py:714: RuntimeWarning: invalid value encountered in double_scalars\n",
      "  dist = 1.0 - uv / np.sqrt(uu * vv)\n",
      "C:\\Users\\dwang\\anaconda3\\lib\\site-packages\\scipy\\spatial\\distance.py:714: RuntimeWarning: invalid value encountered in double_scalars\n",
      "  dist = 1.0 - uv / np.sqrt(uu * vv)\n",
      "C:\\Users\\dwang\\anaconda3\\lib\\site-packages\\scipy\\spatial\\distance.py:714: RuntimeWarning: invalid value encountered in double_scalars\n",
      "  dist = 1.0 - uv / np.sqrt(uu * vv)\n",
      "C:\\Users\\dwang\\anaconda3\\lib\\site-packages\\scipy\\spatial\\distance.py:714: RuntimeWarning: invalid value encountered in double_scalars\n",
      "  dist = 1.0 - uv / np.sqrt(uu * vv)\n",
      "C:\\Users\\dwang\\anaconda3\\lib\\site-packages\\scipy\\spatial\\distance.py:714: RuntimeWarning: invalid value encountered in double_scalars\n",
      "  dist = 1.0 - uv / np.sqrt(uu * vv)\n",
      "C:\\Users\\dwang\\anaconda3\\lib\\site-packages\\scipy\\spatial\\distance.py:714: RuntimeWarning: invalid value encountered in double_scalars\n",
      "  dist = 1.0 - uv / np.sqrt(uu * vv)\n",
      "C:\\Users\\dwang\\anaconda3\\lib\\site-packages\\scipy\\spatial\\distance.py:714: RuntimeWarning: invalid value encountered in double_scalars\n",
      "  dist = 1.0 - uv / np.sqrt(uu * vv)\n",
      "C:\\Users\\dwang\\anaconda3\\lib\\site-packages\\scipy\\spatial\\distance.py:714: RuntimeWarning: invalid value encountered in double_scalars\n",
      "  dist = 1.0 - uv / np.sqrt(uu * vv)\n",
      "C:\\Users\\dwang\\anaconda3\\lib\\site-packages\\scipy\\spatial\\distance.py:714: RuntimeWarning: invalid value encountered in double_scalars\n",
      "  dist = 1.0 - uv / np.sqrt(uu * vv)\n",
      "C:\\Users\\dwang\\anaconda3\\lib\\site-packages\\scipy\\spatial\\distance.py:714: RuntimeWarning: invalid value encountered in double_scalars\n",
      "  dist = 1.0 - uv / np.sqrt(uu * vv)\n",
      "C:\\Users\\dwang\\anaconda3\\lib\\site-packages\\scipy\\spatial\\distance.py:714: RuntimeWarning: invalid value encountered in double_scalars\n",
      "  dist = 1.0 - uv / np.sqrt(uu * vv)\n",
      "C:\\Users\\dwang\\anaconda3\\lib\\site-packages\\scipy\\spatial\\distance.py:714: RuntimeWarning: invalid value encountered in double_scalars\n",
      "  dist = 1.0 - uv / np.sqrt(uu * vv)\n",
      "C:\\Users\\dwang\\anaconda3\\lib\\site-packages\\scipy\\spatial\\distance.py:714: RuntimeWarning: invalid value encountered in double_scalars\n",
      "  dist = 1.0 - uv / np.sqrt(uu * vv)\n",
      "C:\\Users\\dwang\\anaconda3\\lib\\site-packages\\scipy\\spatial\\distance.py:714: RuntimeWarning: invalid value encountered in double_scalars\n",
      "  dist = 1.0 - uv / np.sqrt(uu * vv)\n",
      "C:\\Users\\dwang\\anaconda3\\lib\\site-packages\\scipy\\spatial\\distance.py:714: RuntimeWarning: invalid value encountered in double_scalars\n",
      "  dist = 1.0 - uv / np.sqrt(uu * vv)\n",
      "C:\\Users\\dwang\\anaconda3\\lib\\site-packages\\scipy\\spatial\\distance.py:714: RuntimeWarning: invalid value encountered in double_scalars\n",
      "  dist = 1.0 - uv / np.sqrt(uu * vv)\n",
      "C:\\Users\\dwang\\anaconda3\\lib\\site-packages\\scipy\\spatial\\distance.py:714: RuntimeWarning: invalid value encountered in double_scalars\n",
      "  dist = 1.0 - uv / np.sqrt(uu * vv)\n",
      "C:\\Users\\dwang\\anaconda3\\lib\\site-packages\\scipy\\spatial\\distance.py:714: RuntimeWarning: invalid value encountered in double_scalars\n",
      "  dist = 1.0 - uv / np.sqrt(uu * vv)\n",
      "C:\\Users\\dwang\\anaconda3\\lib\\site-packages\\scipy\\spatial\\distance.py:714: RuntimeWarning: invalid value encountered in double_scalars\n",
      "  dist = 1.0 - uv / np.sqrt(uu * vv)\n",
      "C:\\Users\\dwang\\anaconda3\\lib\\site-packages\\scipy\\spatial\\distance.py:714: RuntimeWarning: invalid value encountered in double_scalars\n",
      "  dist = 1.0 - uv / np.sqrt(uu * vv)\n",
      "C:\\Users\\dwang\\anaconda3\\lib\\site-packages\\scipy\\spatial\\distance.py:714: RuntimeWarning: invalid value encountered in double_scalars\n",
      "  dist = 1.0 - uv / np.sqrt(uu * vv)\n",
      "C:\\Users\\dwang\\anaconda3\\lib\\site-packages\\scipy\\spatial\\distance.py:714: RuntimeWarning: invalid value encountered in double_scalars\n",
      "  dist = 1.0 - uv / np.sqrt(uu * vv)\n",
      "C:\\Users\\dwang\\anaconda3\\lib\\site-packages\\scipy\\spatial\\distance.py:714: RuntimeWarning: invalid value encountered in double_scalars\n",
      "  dist = 1.0 - uv / np.sqrt(uu * vv)\n",
      "C:\\Users\\dwang\\anaconda3\\lib\\site-packages\\scipy\\spatial\\distance.py:714: RuntimeWarning: invalid value encountered in double_scalars\n",
      "  dist = 1.0 - uv / np.sqrt(uu * vv)\n",
      "C:\\Users\\dwang\\anaconda3\\lib\\site-packages\\scipy\\spatial\\distance.py:714: RuntimeWarning: invalid value encountered in double_scalars\n",
      "  dist = 1.0 - uv / np.sqrt(uu * vv)\n",
      "C:\\Users\\dwang\\anaconda3\\lib\\site-packages\\scipy\\spatial\\distance.py:714: RuntimeWarning: invalid value encountered in double_scalars\n",
      "  dist = 1.0 - uv / np.sqrt(uu * vv)\n",
      "C:\\Users\\dwang\\anaconda3\\lib\\site-packages\\scipy\\spatial\\distance.py:714: RuntimeWarning: invalid value encountered in double_scalars\n",
      "  dist = 1.0 - uv / np.sqrt(uu * vv)\n",
      "C:\\Users\\dwang\\anaconda3\\lib\\site-packages\\scipy\\spatial\\distance.py:714: RuntimeWarning: invalid value encountered in double_scalars\n",
      "  dist = 1.0 - uv / np.sqrt(uu * vv)\n",
      "C:\\Users\\dwang\\anaconda3\\lib\\site-packages\\scipy\\spatial\\distance.py:714: RuntimeWarning: invalid value encountered in double_scalars\n",
      "  dist = 1.0 - uv / np.sqrt(uu * vv)\n",
      "C:\\Users\\dwang\\anaconda3\\lib\\site-packages\\scipy\\spatial\\distance.py:714: RuntimeWarning: invalid value encountered in double_scalars\n",
      "  dist = 1.0 - uv / np.sqrt(uu * vv)\n",
      "C:\\Users\\dwang\\anaconda3\\lib\\site-packages\\scipy\\spatial\\distance.py:714: RuntimeWarning: invalid value encountered in double_scalars\n",
      "  dist = 1.0 - uv / np.sqrt(uu * vv)\n",
      "C:\\Users\\dwang\\anaconda3\\lib\\site-packages\\scipy\\spatial\\distance.py:714: RuntimeWarning: invalid value encountered in double_scalars\n",
      "  dist = 1.0 - uv / np.sqrt(uu * vv)\n",
      "C:\\Users\\dwang\\anaconda3\\lib\\site-packages\\scipy\\spatial\\distance.py:714: RuntimeWarning: invalid value encountered in double_scalars\n",
      "  dist = 1.0 - uv / np.sqrt(uu * vv)\n",
      "C:\\Users\\dwang\\anaconda3\\lib\\site-packages\\scipy\\spatial\\distance.py:714: RuntimeWarning: invalid value encountered in double_scalars\n",
      "  dist = 1.0 - uv / np.sqrt(uu * vv)\n",
      "C:\\Users\\dwang\\anaconda3\\lib\\site-packages\\scipy\\spatial\\distance.py:714: RuntimeWarning: invalid value encountered in double_scalars\n",
      "  dist = 1.0 - uv / np.sqrt(uu * vv)\n",
      "C:\\Users\\dwang\\anaconda3\\lib\\site-packages\\scipy\\spatial\\distance.py:714: RuntimeWarning: invalid value encountered in double_scalars\n",
      "  dist = 1.0 - uv / np.sqrt(uu * vv)\n",
      "C:\\Users\\dwang\\anaconda3\\lib\\site-packages\\scipy\\spatial\\distance.py:714: RuntimeWarning: invalid value encountered in double_scalars\n",
      "  dist = 1.0 - uv / np.sqrt(uu * vv)\n",
      "C:\\Users\\dwang\\anaconda3\\lib\\site-packages\\scipy\\spatial\\distance.py:714: RuntimeWarning: invalid value encountered in double_scalars\n",
      "  dist = 1.0 - uv / np.sqrt(uu * vv)\n",
      "C:\\Users\\dwang\\anaconda3\\lib\\site-packages\\scipy\\spatial\\distance.py:714: RuntimeWarning: invalid value encountered in double_scalars\n",
      "  dist = 1.0 - uv / np.sqrt(uu * vv)\n",
      "C:\\Users\\dwang\\anaconda3\\lib\\site-packages\\scipy\\spatial\\distance.py:714: RuntimeWarning: invalid value encountered in double_scalars\n",
      "  dist = 1.0 - uv / np.sqrt(uu * vv)\n",
      "C:\\Users\\dwang\\anaconda3\\lib\\site-packages\\scipy\\spatial\\distance.py:714: RuntimeWarning: invalid value encountered in double_scalars\n",
      "  dist = 1.0 - uv / np.sqrt(uu * vv)\n",
      "C:\\Users\\dwang\\anaconda3\\lib\\site-packages\\scipy\\spatial\\distance.py:714: RuntimeWarning: invalid value encountered in double_scalars\n",
      "  dist = 1.0 - uv / np.sqrt(uu * vv)\n",
      "C:\\Users\\dwang\\anaconda3\\lib\\site-packages\\scipy\\spatial\\distance.py:714: RuntimeWarning: invalid value encountered in double_scalars\n",
      "  dist = 1.0 - uv / np.sqrt(uu * vv)\n"
     ]
    },
    {
     "name": "stderr",
     "output_type": "stream",
     "text": [
      "C:\\Users\\dwang\\anaconda3\\lib\\site-packages\\scipy\\spatial\\distance.py:714: RuntimeWarning: invalid value encountered in double_scalars\n",
      "  dist = 1.0 - uv / np.sqrt(uu * vv)\n",
      "C:\\Users\\dwang\\anaconda3\\lib\\site-packages\\scipy\\spatial\\distance.py:714: RuntimeWarning: invalid value encountered in double_scalars\n",
      "  dist = 1.0 - uv / np.sqrt(uu * vv)\n",
      "C:\\Users\\dwang\\anaconda3\\lib\\site-packages\\scipy\\spatial\\distance.py:714: RuntimeWarning: invalid value encountered in double_scalars\n",
      "  dist = 1.0 - uv / np.sqrt(uu * vv)\n",
      "C:\\Users\\dwang\\anaconda3\\lib\\site-packages\\scipy\\spatial\\distance.py:714: RuntimeWarning: invalid value encountered in double_scalars\n",
      "  dist = 1.0 - uv / np.sqrt(uu * vv)\n",
      "C:\\Users\\dwang\\anaconda3\\lib\\site-packages\\scipy\\spatial\\distance.py:714: RuntimeWarning: invalid value encountered in double_scalars\n",
      "  dist = 1.0 - uv / np.sqrt(uu * vv)\n",
      "C:\\Users\\dwang\\anaconda3\\lib\\site-packages\\scipy\\spatial\\distance.py:714: RuntimeWarning: invalid value encountered in double_scalars\n",
      "  dist = 1.0 - uv / np.sqrt(uu * vv)\n",
      "C:\\Users\\dwang\\anaconda3\\lib\\site-packages\\scipy\\spatial\\distance.py:714: RuntimeWarning: invalid value encountered in double_scalars\n",
      "  dist = 1.0 - uv / np.sqrt(uu * vv)\n",
      "C:\\Users\\dwang\\anaconda3\\lib\\site-packages\\scipy\\spatial\\distance.py:714: RuntimeWarning: invalid value encountered in double_scalars\n",
      "  dist = 1.0 - uv / np.sqrt(uu * vv)\n",
      "C:\\Users\\dwang\\anaconda3\\lib\\site-packages\\scipy\\spatial\\distance.py:714: RuntimeWarning: invalid value encountered in double_scalars\n",
      "  dist = 1.0 - uv / np.sqrt(uu * vv)\n",
      "C:\\Users\\dwang\\anaconda3\\lib\\site-packages\\scipy\\spatial\\distance.py:714: RuntimeWarning: invalid value encountered in double_scalars\n",
      "  dist = 1.0 - uv / np.sqrt(uu * vv)\n",
      "C:\\Users\\dwang\\anaconda3\\lib\\site-packages\\scipy\\spatial\\distance.py:714: RuntimeWarning: invalid value encountered in double_scalars\n",
      "  dist = 1.0 - uv / np.sqrt(uu * vv)\n",
      "C:\\Users\\dwang\\anaconda3\\lib\\site-packages\\scipy\\spatial\\distance.py:714: RuntimeWarning: invalid value encountered in double_scalars\n",
      "  dist = 1.0 - uv / np.sqrt(uu * vv)\n",
      "C:\\Users\\dwang\\anaconda3\\lib\\site-packages\\scipy\\spatial\\distance.py:714: RuntimeWarning: invalid value encountered in double_scalars\n",
      "  dist = 1.0 - uv / np.sqrt(uu * vv)\n",
      "C:\\Users\\dwang\\anaconda3\\lib\\site-packages\\scipy\\spatial\\distance.py:714: RuntimeWarning: invalid value encountered in double_scalars\n",
      "  dist = 1.0 - uv / np.sqrt(uu * vv)\n",
      "C:\\Users\\dwang\\anaconda3\\lib\\site-packages\\scipy\\spatial\\distance.py:714: RuntimeWarning: invalid value encountered in double_scalars\n",
      "  dist = 1.0 - uv / np.sqrt(uu * vv)\n",
      "C:\\Users\\dwang\\anaconda3\\lib\\site-packages\\scipy\\spatial\\distance.py:714: RuntimeWarning: invalid value encountered in double_scalars\n",
      "  dist = 1.0 - uv / np.sqrt(uu * vv)\n",
      "C:\\Users\\dwang\\anaconda3\\lib\\site-packages\\scipy\\spatial\\distance.py:714: RuntimeWarning: invalid value encountered in double_scalars\n",
      "  dist = 1.0 - uv / np.sqrt(uu * vv)\n",
      "C:\\Users\\dwang\\anaconda3\\lib\\site-packages\\scipy\\spatial\\distance.py:714: RuntimeWarning: invalid value encountered in double_scalars\n",
      "  dist = 1.0 - uv / np.sqrt(uu * vv)\n",
      "C:\\Users\\dwang\\anaconda3\\lib\\site-packages\\scipy\\spatial\\distance.py:714: RuntimeWarning: invalid value encountered in double_scalars\n",
      "  dist = 1.0 - uv / np.sqrt(uu * vv)\n"
     ]
    },
    {
     "name": "stdout",
     "output_type": "stream",
     "text": [
      "['Andrew Jackson', 'January 20, 1953', 'George Washington', 'President Johnson', 'President Franklin D. Roosevelt']\n"
     ]
    }
   ],
   "source": [
    "# test\n",
    "print(top5results(\"who is the president of THE UNITED STATES NOW???\"))"
   ]
  },
  {
   "cell_type": "markdown",
   "metadata": {},
   "source": [
    "complexity analysis\n",
    "time O(ND) \n",
    "N refers to the number of questions in the data set D refers to the size of the dictionary We calculate the cosin-similarity with the D time\n",
    "complexity Comparing the querried question with all N questions in data set is in time complexity N\n",
    "space O(1)\n",
    "\n",
    "issues:\n",
    "1. the answer is constrainted by our question-answer pairs\n",
    "2. the word \"now\" has no use\n",
    "3. the time complexity is too high. If the size of the question-answer paris is too large, it cost too much time to calculate cos similarity with each pair."
   ]
  },
  {
   "cell_type": "markdown",
   "metadata": {},
   "source": [
    "part 7: apply the inverted list to decrease the time complexity.    \n",
    "use inverted list to find candidates first inorder to save the cos similarity time"
   ]
  },
  {
   "cell_type": "code",
   "execution_count": 81,
   "metadata": {},
   "outputs": [],
   "source": [
    "def create_inverted_idx(text_list):\n",
    "    \"\"\"\n",
    "    output inverted idx dict\n",
    "    \"\"\"\n",
    "    invidx = defaultdict(lambda:set())\n",
    "    for i, text in enumerate(text_list):\n",
    "        for token in text.split(\" \"):\n",
    "            if not token: continue\n",
    "            invidx[token].add(i)\n",
    "    return invidx\n",
    "            "
   ]
  },
  {
   "cell_type": "code",
   "execution_count": 82,
   "metadata": {},
   "outputs": [],
   "source": [
    "def get_candidate_docs(invidx, query):\n",
    "    \"\"\"\n",
    "    find the intersection of document sets of the query \n",
    "    tokens and the inverted dict\n",
    "    \"\"\"\n",
    "    candidate_ids = set()\n",
    "    for token in query.split(\" \"):\n",
    "        docs = invidx.get(token, set())\n",
    "        candidate_ids = candidate_ids.intersection(docs)\n",
    "    if candidate_ids:\n",
    "        return list(candidate_ids)\n",
    "    \n",
    "    for token in query.split(\" \"):\n",
    "        candidate_ids = candidate_ids.union(invidx.get(token, set()))\n",
    "    if candidate_ids:\n",
    "        return list(candidate_ids)\n",
    "    return None"
   ]
  },
  {
   "cell_type": "code",
   "execution_count": 83,
   "metadata": {},
   "outputs": [],
   "source": [
    "inverted_idx = create_inverted_idx(qlist)\n",
    "def top5results_invidx(input_q, K=5):\n",
    "    \"\"\"\n",
    "    similar to the above one, except we use inverted list to\n",
    "    find the candidate set first.\n",
    "    \"\"\"\n",
    "    if not input_q or type(input_q)!= type(\"\"):\n",
    "        print(\"input error\")\n",
    "        return\n",
    "    input_q = text_normalizer.normalize_text(input_q)\n",
    "    candidate_docs = get_candidate_docs(inverted_idx, input_q)\n",
    "    if not candidate_docs:\n",
    "        print(\"no answer error\")\n",
    "        return\n",
    "    q_vec = vectorizer.transform([input_q]).todense()\n",
    "    top_k_indices, top_idx = [], []\n",
    "    for i in candidate_docs:\n",
    "        doc_vec = X[i,:].todense()\n",
    "        similarity = 1 - cosdist(doc_vec, q_vec)\n",
    "        similarity = 0 if np.isnan(similarity) else similarity\n",
    "        if len(top_k_indices) == K:\n",
    "            heapq.heappushpop(top_k_indices,(similarity, i))\n",
    "        else:\n",
    "            heapq.heappush(top_k_indices, (similarity, i))\n",
    "    top_idxs = sorted(top_k_indices, reverse=True)\n",
    "    _, top_idxs = zip(*top_idxs[::-1])\n",
    "    return [alist[id] for id in top_idxs]"
   ]
  },
  {
   "cell_type": "code",
   "execution_count": 84,
   "metadata": {},
   "outputs": [
    {
     "name": "stdout",
     "output_type": "stream",
     "text": [
      "['Andrew Jackson', 'January 20, 1953', 'George Washington', 'President Johnson', 'President Franklin D. Roosevelt']\n"
     ]
    }
   ],
   "source": [
    "# test\n",
    "print(top5results_invidx(\"who is the president of THE UNITED STATES NOW???\"))"
   ]
  },
  {
   "cell_type": "markdown",
   "metadata": {},
   "source": [
    "complexity analysis time O(N_d * D)   N_d is the size of the largest set in the inverted list.\n",
    "\n"
   ]
  },
  {
   "cell_type": "markdown",
   "metadata": {},
   "source": [
    "step 8, use word2vec.                        \n",
    "In the above part, we use the bag-of-words model. But this model can not consider the similarity between words and the representation vector is sparse. In the following part, we use the word2vec model with glove.6B.100."
   ]
  },
  {
   "cell_type": "code",
   "execution_count": 98,
   "metadata": {},
   "outputs": [],
   "source": [
    "from gensim.scripts.glove2word2vec import glove2word2vec\n",
    "from gensim.models import KeyedVectors\n",
    "import numpy as np\n",
    "_ = glove2word2vec('data/glove.6B.100d.txt','data/glove2word2vec.6B.100d.txt')\n",
    "model = KeyedVectors.load_word2vec_format('data/glove2word2vec.6B.100d.txt')\n",
    "\n",
    "def word2vec_get(seg):\n",
    "    \"\"\"\n",
    "    get wordVec of seg with glove\n",
    "    \"\"\"\n",
    "    vector = np.zeros([1,100])\n",
    "    size = len(seg)\n",
    "    for word in seg:\n",
    "        try:\n",
    "            vector += model.wv[word]\n",
    "        except KeyError:\n",
    "            size -= 1\n",
    "    vector /= size\n",
    "    vector_norm = np.linalg.norm(vector / size,axis=1,keepdims=True)\n",
    "    return vector / vector_norm\n",
    "\n"
   ]
  },
  {
   "cell_type": "code",
   "execution_count": 99,
   "metadata": {
    "scrolled": true
   },
   "outputs": [
    {
     "name": "stderr",
     "output_type": "stream",
     "text": [
      "<ipython-input-98-329ac26b571f>:15: DeprecationWarning: Call to deprecated `wv` (Attribute will be removed in 4.0.0, use self instead).\n",
      "  vector += model.wv[word]\n"
     ]
    }
   ],
   "source": [
    "X = np.zeros([len(qlist), 100])\n",
    "for cur in range(X.shape[0]):\n",
    "    X[cur] = word2vec_get(qlist[cur])"
   ]
  },
  {
   "cell_type": "code",
   "execution_count": 100,
   "metadata": {},
   "outputs": [],
   "source": [
    "def top5results_emb(input_q, K=5):\n",
    "    \"\"\"\n",
    "    similar to the above ones, except that we use word2vec\n",
    "    \"\"\"\n",
    "    if not input_q or type(input_q)!= type(\"\"):\n",
    "        print(\"input error\")\n",
    "        return\n",
    "    input_q = text_normalizer.normalize_text(input_q)\n",
    "    candidate_docs = get_candidate_docs(inverted_idx, input_q)\n",
    "    if not candidate_docs:\n",
    "        print(\"no answer error\")\n",
    "        return\n",
    "    q_vec = word2vec_get(input_q)\n",
    "    top_k_indices, top_idx = [], []\n",
    "    for i in candidate_docs:\n",
    "        doc_vec = X[i,:]\n",
    "        similarity = 1 - cosdist(doc_vec, q_vec)\n",
    "        similarity = 0 if np.isnan(similarity) else similarity\n",
    "        if len(top_k_indices) == K:\n",
    "            heapq.heappushpop(top_k_indices,(similarity, i))\n",
    "        else:\n",
    "            heapq.heappush(top_k_indices, (similarity, i))\n",
    "    top_idxs = sorted(top_k_indices, reverse=True)\n",
    "    _, top_idxs = zip(*top_idxs[::-1])\n",
    "    return [alist[id] for id in top_idxs]"
   ]
  },
  {
   "cell_type": "code",
   "execution_count": 101,
   "metadata": {},
   "outputs": [
    {
     "name": "stdout",
     "output_type": "stream",
     "text": [
      "['the encyclical', 'George Washington', 'the colonies first rejected the authority of the Parliament to govern them without representation', '1985', 'Andrew Jackson']\n"
     ]
    },
    {
     "name": "stderr",
     "output_type": "stream",
     "text": [
      "<ipython-input-98-329ac26b571f>:15: DeprecationWarning: Call to deprecated `wv` (Attribute will be removed in 4.0.0, use self instead).\n",
      "  vector += model.wv[word]\n"
     ]
    }
   ],
   "source": [
    "# test\n",
    "print(top5results_emb(\"who is the president of THE UNITED STATES NOW???\"))"
   ]
  },
  {
   "cell_type": "code",
   "execution_count": null,
   "metadata": {},
   "outputs": [],
   "source": []
  },
  {
   "cell_type": "code",
   "execution_count": null,
   "metadata": {},
   "outputs": [],
   "source": []
  },
  {
   "cell_type": "code",
   "execution_count": null,
   "metadata": {},
   "outputs": [],
   "source": []
  },
  {
   "cell_type": "code",
   "execution_count": null,
   "metadata": {},
   "outputs": [],
   "source": []
  },
  {
   "cell_type": "code",
   "execution_count": null,
   "metadata": {},
   "outputs": [],
   "source": []
  },
  {
   "cell_type": "code",
   "execution_count": null,
   "metadata": {},
   "outputs": [],
   "source": []
  },
  {
   "cell_type": "code",
   "execution_count": null,
   "metadata": {},
   "outputs": [],
   "source": [
    "    "
   ]
  },
  {
   "cell_type": "code",
   "execution_count": null,
   "metadata": {},
   "outputs": [],
   "source": []
  },
  {
   "cell_type": "code",
   "execution_count": null,
   "metadata": {},
   "outputs": [],
   "source": []
  },
  {
   "cell_type": "code",
   "execution_count": null,
   "metadata": {},
   "outputs": [],
   "source": []
  },
  {
   "cell_type": "code",
   "execution_count": null,
   "metadata": {},
   "outputs": [],
   "source": []
  },
  {
   "cell_type": "code",
   "execution_count": null,
   "metadata": {},
   "outputs": [],
   "source": []
  },
  {
   "cell_type": "markdown",
   "metadata": {},
   "source": []
  },
  {
   "cell_type": "code",
   "execution_count": null,
   "metadata": {},
   "outputs": [],
   "source": []
  },
  {
   "cell_type": "code",
   "execution_count": null,
   "metadata": {},
   "outputs": [],
   "source": []
  },
  {
   "cell_type": "code",
   "execution_count": null,
   "metadata": {},
   "outputs": [],
   "source": []
  },
  {
   "cell_type": "code",
   "execution_count": null,
   "metadata": {},
   "outputs": [],
   "source": []
  },
  {
   "cell_type": "code",
   "execution_count": null,
   "metadata": {},
   "outputs": [],
   "source": []
  },
  {
   "cell_type": "code",
   "execution_count": null,
   "metadata": {},
   "outputs": [],
   "source": []
  },
  {
   "cell_type": "code",
   "execution_count": 35,
   "metadata": {},
   "outputs": [],
   "source": [
    " "
   ]
  },
  {
   "cell_type": "code",
   "execution_count": null,
   "metadata": {},
   "outputs": [],
   "source": []
  },
  {
   "cell_type": "code",
   "execution_count": null,
   "metadata": {},
   "outputs": [],
   "source": []
  },
  {
   "cell_type": "code",
   "execution_count": null,
   "metadata": {},
   "outputs": [],
   "source": []
  },
  {
   "cell_type": "code",
   "execution_count": null,
   "metadata": {},
   "outputs": [],
   "source": []
  },
  {
   "cell_type": "code",
   "execution_count": null,
   "metadata": {},
   "outputs": [],
   "source": []
  },
  {
   "cell_type": "code",
   "execution_count": null,
   "metadata": {},
   "outputs": [],
   "source": []
  },
  {
   "cell_type": "code",
   "execution_count": null,
   "metadata": {},
   "outputs": [],
   "source": []
  },
  {
   "cell_type": "code",
   "execution_count": null,
   "metadata": {},
   "outputs": [],
   "source": []
  }
 ],
 "metadata": {
  "kernelspec": {
   "display_name": "Python 3",
   "language": "python",
   "name": "python3"
  },
  "language_info": {
   "codemirror_mode": {
    "name": "ipython",
    "version": 3
   },
   "file_extension": ".py",
   "mimetype": "text/x-python",
   "name": "python",
   "nbconvert_exporter": "python",
   "pygments_lexer": "ipython3",
   "version": "3.8.3"
  }
 },
 "nbformat": 4,
 "nbformat_minor": 4
}
