{
 "cells": [
  {
   "cell_type": "markdown",
   "metadata": {},
   "source": [
    "This is the first project of the Greedy-tech NLP Camp. Our goal is to understand each part of the NLP task and build a retrieval-based QA system.\n",
    "The organization of this project is as follows:\n",
    "Part 1: build a word segmentation tool with the enumeration method\n",
    "part 2: apply the Viterbi algorithm to decrease the time complexity\n",
    "part 3: understand the dataset, which involves the question-answer pair\n",
    "part 4: text preprocessing\n",
    "part 5: word representation with tf-idf method\n",
    "part 6: find the top 5 answers to a testing question by comparing the testing question's cosine similarity with the questions in the data set\n",
    "part 7: apply the inverted index to decrease the time complexity\n",
    "part 8: replace the tf-idf word representation with the word2vec method\n"
   ]
  },
  {
   "cell_type": "markdown",
   "metadata": {},
   "source": [
    "part 1: build a word segmentation tool with the enumeration method \n",
    "The given data includes:\n",
    "1) one Chinese dictionary, dic.xlsx\n",
    "2) part of the words' probability. For other words' probability, if the word exists in the dictionary, then the probability is 0.00001, otherwise 0."
   ]
  },
  {
   "cell_type": "code",
   "execution_count": 1,
   "metadata": {},
   "outputs": [
    {
     "name": "stdout",
     "output_type": "stream",
     "text": [
      "True\n",
      "1.0000000000000002\n"
     ]
    }
   ],
   "source": [
    "# use set to store the dictionary and check the given probability\n",
    "import pandas as pd\n",
    "dic_words = pd.read_excel('data\\dic.xlsx',header=None)   # 保存词典库中读取的单词\n",
    "dic_set = set(dic_words[0])\n",
    "print('羊肚子' in dic_set)\n",
    "\n",
    "word_prob = {\"北京\":0.03,\"的\":0.08,\"天\":0.005,\"气\":0.005,\"天气\":0.06,\"真\":0.04,\"好\":0.05,\"真好\":0.04,\"啊\":0.01,\"真好啊\":0.02, \n",
    "             \"今\":0.01,\"今天\":0.07,\"课程\":0.06,\"内容\":0.06,\"有\":0.05,\"很\":0.03,\"很有\":0.04,\"意思\":0.06,\"有意思\":0.005,\"课\":0.01,\n",
    "             \"程\":0.005,\"经常\":0.08,\"意见\":0.08,\"意\":0.01,\"见\":0.005,\"有意见\":0.02,\"分歧\":0.04,\"分\":0.02, \"歧\":0.005}\n",
    "\n",
    "print (sum(word_prob.values()))"
   ]
  },
  {
   "cell_type": "code",
   "execution_count": 4,
   "metadata": {},
   "outputs": [],
   "source": [
    "# build a naive word segmentation tool and check the results\n",
    "import math\n",
    "def word_segment_naive(input_str):\n",
    "    segments = []\n",
    "    best_score = 1e10       \n",
    "    if(len(input_str) == 0):\n",
    "        return segments\n",
    "    for i in range(1,len(input_str)+1):\n",
    "        word = input_str[0:i]\n",
    "        if word in dic_set:\n",
    "            subString = word_segment_naive(input_str[i:])\n",
    "            if(len(subString)==0):\n",
    "                segments.append([word])\n",
    "            else:\n",
    "\n",
    "                for st in subString:  \n",
    "                    st = [word] + st\n",
    "                    segments.append(st)\n",
    "    for st in segments:\n",
    "        score = 0\n",
    "        for each in st:\n",
    "            score -= math.log(word_prob.get(each,0.00001))\n",
    "        if score < best_score:\n",
    "            best_score = score\n",
    "            best_segment = st  \n",
    "\n",
    "    return [best_segment]"
   ]
  },
  {
   "cell_type": "code",
   "execution_count": 5,
   "metadata": {},
   "outputs": [
    {
     "name": "stdout",
     "output_type": "stream",
     "text": [
      "[['今天', '天气', '好']]\n",
      "[['今天', '的', '课程', '内容', '很', '有意思']]\n",
      "[['经常', '有', '意见', '分歧']]\n"
     ]
    }
   ],
   "source": [
    "#test\n",
    "print(word_segment_naive(\"今天天气好\"))\n",
    "print(word_segment_naive(\"今天的课程内容很有意思\"))\n",
    "print(word_segment_naive(\"经常有意见分歧\"))"
   ]
  },
  {
   "cell_type": "markdown",
   "metadata": {},
   "source": [
    "time complexity: O(n^n), space complexity: O(n^n)"
   ]
  },
  {
   "cell_type": "markdown",
   "metadata": {},
   "source": [
    "part 2: apply the Viterbi algorithm to decrease the time complexity"
   ]
  },
  {
   "cell_type": "code",
   "execution_count": 11,
   "metadata": {},
   "outputs": [],
   "source": [
    "import numpy as np\n",
    "def word_segment_viterbi(input_str):\n",
    "    # use a matrix to store the pre-calculated probability\n",
    "    node_num = len(input_str) + 1\n",
    "    graph = np.zeros((node_num, node_num), dtype=int)\n",
    "    for i in range(node_num):\n",
    "        for j in range(i, node_num):\n",
    "            if i != j:\n",
    "                if word_prob.get(input_str[i:j]) is None:\n",
    "                    if j-i == 1:\n",
    "                        ratio = -math.log(0.00001)\n",
    "                    else:\n",
    "                        ratio = 0\n",
    "                else:\n",
    "                    ratio = -math.log(word_prob.get(input_str[i:j]))\n",
    "                graph[i][j] = ratio\n",
    "                \n",
    "    # use dp to solve the viterbi problem\n",
    "    dp = [10000 for _ in range(node_num)]\n",
    "    dp[0] = 0\n",
    "    path = [0 for _ in range(node_num)]\n",
    "    for i in range(1, node_num):\n",
    "        for j in range(i):\n",
    "\n",
    "            if graph[j][i] != 0:\n",
    "                if dp[j] + graph[j][i] < dp[i]:\n",
    "\n",
    "                    dp[i] = dp[j] + graph[j][i]\n",
    "                    path[i] = j\n",
    "\n",
    "    index = []\n",
    "    last = len(path)-1\n",
    "    while last != 0:\n",
    "        index.append(path[last])\n",
    "        last = path[last]\n",
    "\n",
    "    index = index[::-1]\n",
    "    best_segment = []\n",
    "    for i in range(len(index)):\n",
    "        if i == len(index) -1:\n",
    "            best_segment.append(input_str[index[i]:])\n",
    "        else:\n",
    "            best_segment.append(input_str[index[i]:index[i+1]])\n",
    "    return best_segment                 \n"
   ]
  },
  {
   "cell_type": "code",
   "execution_count": 12,
   "metadata": {},
   "outputs": [
    {
     "name": "stdout",
     "output_type": "stream",
     "text": [
      "['北京', '的', '天气', '真好啊']\n",
      "['今天', '的', '课程', '内容', '很有', '意思']\n",
      "['经常', '有意见', '分歧']\n"
     ]
    }
   ],
   "source": [
    "#test\n",
    "print(word_segment_viterbi(\"北京的天气真好啊\"))\n",
    "print(word_segment_viterbi(\"今天的课程内容很有意思\"))\n",
    "print(word_segment_viterbi(\"经常有意见分歧\"))"
   ]
  },
  {
   "cell_type": "markdown",
   "metadata": {},
   "source": [
    "time complexity: O(n^3), space complexity: O(n^2)"
   ]
  },
  {
   "cell_type": "markdown",
   "metadata": {},
   "source": [
    "Potential further improvement:\n",
    "1) the current probability is calculated based on the collected documents. We can consider more data to get more accurate probability\n",
    "2) one-order markov is nor precise\n",
    "3) it can not deal with polysemy\n",
    "4) if the words do not exist in the dictionary, these words can not be segmented correctly."
   ]
  },
  {
   "cell_type": "markdown",
   "metadata": {},
   "source": [
    "part 3:understand the dataset, which involves the question-answer pair\n",
    "From this part, we start build our retrieval-based QA system.\n",
    "The given data includes:\n",
    "1) dev-v2.0.json file includes the question-answer pair"
   ]
  },
  {
   "cell_type": "code",
   "execution_count": 13,
   "metadata": {},
   "outputs": [],
   "source": [
    "# read file and plot the data\n",
    "import json\n",
    "def read_corpus():\n",
    "    with open('data/train-v2.0.json', encoding='utf-8') as fp:\n",
    "        data = json.load(fp)\n",
    "    qlist = []; alist = []\n",
    "    for item in data[\"data\"]:\n",
    "        for para in item[\"paragraphs\"]:\n",
    "            for qa in para[\"qas\"]:\n",
    "                qlist.append(qa[\"question\"])\n",
    "                try:\n",
    "                    alist.append(qa[\"answers\"][0][\"text\"])\n",
    "                except IndexError:\n",
    "                    qlist.pop()\n",
    "                \n",
    "    assert len(qlist) == len(alist) \n",
    "    return qlist, alist\n",
    "    "
   ]
  },
  {
   "cell_type": "code",
   "execution_count": 14,
   "metadata": {},
   "outputs": [
    {
     "name": "stdout",
     "output_type": "stream",
     "text": [
      "diff_word_total: 51841\n",
      "word_total: 874076\n"
     ]
    }
   ],
   "source": [
    "from collections import Counter\n",
    "wordsCount = Counter()\n",
    "qlist, alist = read_corpus()\n",
    "for text in qlist:\n",
    "    wordsCount.update(text.strip(' .!?').split(' '))\n",
    "diff_word_total = len(wordsCount.keys())\n",
    "word_total = sum(wordsCount.values())\n",
    "print('diff_word_total:' , diff_word_total)\n",
    "print('word_total:' , word_total)"
   ]
  },
  {
   "cell_type": "code",
   "execution_count": 15,
   "metadata": {},
   "outputs": [
    {
     "name": "stdout",
     "output_type": "stream",
     "text": [
      "top 20 words\n",
      "[['the', 60960], ['What', 36995], ['of', 33987], ['in', 21785], ['to', 18443], ['was', 17065], ['is', 16198], ['did', 15634], ['what', 13219], ['a', 10753], ['How', 8023], ['Who', 8009], ['and', 7229], ['for', 7200], ['many', 5497], ['are', 5455], ['When', 5367], ['that', 4436], ['were', 4428], ['does', 4331]]\n"
     ]
    },
    {
     "data": {
      "image/png": "[encoded data removed]",
      "text/plain": [
       "<Figure size 576x360 with 2 Axes>"
      ]
     },
     "metadata": {
      "needs_background": "light"
     },
     "output_type": "display_data"
    }
   ],
   "source": [
    "import matplotlib.pyplot as plt\n",
    "valueSorted = sorted(wordsCount.values(),reverse=True)\n",
    "plt.figure(figsize= [8, 5])\n",
    "plt.subplot(1,2,1)\n",
    "plt.plot(valueSorted)\n",
    "plt.subplot(1,2,2)\n",
    "plt.plot(valueSorted[0:20])\n",
    "inverseDict = dict(zip(wordsCount.values(), wordsCount.keys()))\n",
    "print(\"top 20 words\")\n",
    "print([[inverseDict[v],v] for v in valueSorted[:20]])"
   ]
  },
  {
   "cell_type": "code",
   "execution_count": null,
   "metadata": {},
   "outputs": [],
   "source": [
    "# We can find the Zipf's law from the above figure.\n",
    "# The figure is similar the exponential function. The frequency of the ranked first \n",
    "# word is two times of the frequency of the second one."
   ]
  },
  {
   "cell_type": "code",
   "execution_count": 16,
   "metadata": {},
   "outputs": [
    {
     "name": "stdout",
     "output_type": "stream",
     "text": [
      "top 20 words\n",
      "[['the', 13211], ['of', 8893], ['and', 8172], ['to', 3440], ['a', 3294], ['in', 2838], ['The', 1769], ['or', 1261], ['for', 1032], ['million', 854], ['as', 840], ['by', 801], ['is', 722], ['on', 720], ['on', 720], ['from', 696], ['that', 664], ['an', 610], ['century', 556], ['their', 536]]\n"
     ]
    }
   ],
   "source": [
    "wordCountAns = Counter()\n",
    "for text in alist:\n",
    "    wordCountAns.update(text.strip(' .!?').split(' '))\n",
    "valueSortedAns = sorted(wordCountAns.values(), reverse=True)\n",
    "inverseDictrAns = dict(zip(wordCountAns.values(), wordCountAns.keys()))\n",
    "print(\"top 20 words\")\n",
    "print([[inverseDictrAns[v],v] for v in valueSortedAns[0:20]])"
   ]
  },
  {
   "cell_type": "code",
   "execution_count": 17,
   "metadata": {},
   "outputs": [
    {
     "data": {
      "text/plain": [
       "['When did Beyonce start becoming popular?',\n",
       " 'What areas did Beyonce compete in when she was growing up?',\n",
       " \"When did Beyonce leave Destiny's Child and become a solo singer?\",\n",
       " 'In what city and state did Beyonce  grow up? ',\n",
       " 'In which decade did Beyonce become famous?',\n",
       " 'In what R&B group was she the lead singer?',\n",
       " 'What album made her a worldwide known artist?',\n",
       " \"Who managed the Destiny's Child group?\",\n",
       " 'When did Beyoncé rise to fame?',\n",
       " \"What role did Beyoncé have in Destiny's Child?\"]"
      ]
     },
     "execution_count": 17,
     "metadata": {},
     "output_type": "execute_result"
    }
   ],
   "source": [
    "qlist[0:10]"
   ]
  },
  {
   "cell_type": "code",
   "execution_count": 18,
   "metadata": {},
   "outputs": [
    {
     "data": {
      "text/plain": [
       "['in the late 1990s',\n",
       " 'singing and dancing',\n",
       " '2003',\n",
       " 'Houston, Texas',\n",
       " 'late 1990s',\n",
       " \"Destiny's Child\",\n",
       " 'Dangerously in Love',\n",
       " 'Mathew Knowles',\n",
       " 'late 1990s',\n",
       " 'lead singer']"
      ]
     },
     "execution_count": 18,
     "metadata": {},
     "output_type": "execute_result"
    }
   ],
   "source": [
    "alist[0:10]"
   ]
  },
  {
   "cell_type": "markdown",
   "metadata": {},
   "source": [
    "part 4: text preprocessing"
   ]
  },
  {
   "cell_type": "code",
   "execution_count": 19,
   "metadata": {},
   "outputs": [],
   "source": [
    "# stop words\n",
    "#import nltk\n",
    "from nltk.corpus import stopwords\n",
    "#nltk.download('stopwords')\n",
    "stopSet = set(stopwords.words('english'))\n",
    "stopSet.update({'-s','-ly','</s>','\\'s','\\'\\'', '\\''})\n",
    "\n",
    "#stemmer\n",
    "from nltk.stem import PorterStemmer\n",
    "ps = PorterStemmer()\n",
    "\n",
    "# tokenize\n",
    "from nltk.tokenize import word_tokenize\n",
    "\n",
    "import math\n",
    "def textPreprocessing(text):\n",
    "    seg = []\n",
    "    for word in word_tokenize(text):\n",
    "        word = ps.stem(word.lower())\n",
    "        word = '#number' if word.isdigit() else word\n",
    "        if len(word) > 1 and word not in stopSet:\n",
    "            seg.append(word)\n",
    "    return seg\n",
    "\n",
    "wordsCount = Counter()\n",
    "preQList = []\n",
    "for text in qlist:\n",
    "    seg = textPreprocessing(text)\n",
    "    preQList.append(seg)\n",
    "    wordsCount.update(seg)\n",
    "\n",
    "valueSorted = sorted(wordsCount.values(), reverse=True)\n",
    "\n",
    "# delete low frequency words\n",
    "for cur in range(len(preQList)):\n",
    "    preQList[cur] = [word for word in preQList[cur] if wordsCount[word] > 7]\n",
    "    "
   ]
  },
  {
   "cell_type": "code",
   "execution_count": 20,
   "metadata": {},
   "outputs": [
    {
     "data": {
      "text/plain": [
       "7"
      ]
     },
     "execution_count": 20,
     "metadata": {},
     "output_type": "execute_result"
    }
   ],
   "source": [
    "valueSorted[int(0.20 * len(valueSorted))]\n",
    "# In the above code, we use 7 as the frequency threshold, which represents 20% of the data."
   ]
  },
  {
   "cell_type": "code",
   "execution_count": 21,
   "metadata": {},
   "outputs": [
    {
     "data": {
      "text/plain": [
       "[['beyonc', 'start', 'becom', 'popular'],\n",
       " ['area', 'beyonc', 'compet', 'wa', 'grow'],\n",
       " ['beyonc', 'leav', 'destini', 'child', 'becom', 'solo', 'singer'],\n",
       " ['citi', 'state', 'beyonc', 'grow'],\n",
       " ['decad', 'beyonc', 'becom', 'famou'],\n",
       " ['group', 'wa', 'lead', 'singer'],\n",
       " ['album', 'made', 'worldwid', 'known', 'artist'],\n",
       " ['manag', 'destini', 'child', 'group'],\n",
       " ['beyoncé', 'rise', 'fame'],\n",
       " ['role', 'beyoncé', 'destini', 'child']]"
      ]
     },
     "execution_count": 21,
     "metadata": {},
     "output_type": "execute_result"
    }
   ],
   "source": [
    "preQList[:10]"
   ]
  },
  {
   "cell_type": "markdown",
   "metadata": {},
   "source": [
    "part 5: word representation with tf-idf method"
   ]
  },
  {
   "cell_type": "code",
   "execution_count": 22,
   "metadata": {},
   "outputs": [],
   "source": [
    "from sklearn.feature_extraction.text import TfidfVectorizer\n",
    "vectorizer =  TfidfVectorizer() \n",
    "\n",
    "X =  vectorizer.fit_transform([' '.join(seg) for seg in preQList])"
   ]
  },
  {
   "cell_type": "code",
   "execution_count": 23,
   "metadata": {},
   "outputs": [
    {
     "name": "stdout",
     "output_type": "stream",
     "text": [
      "0.09614641890224648%\n"
     ]
    }
   ],
   "source": [
    "sparsity =  X.nnz/float(X.shape[0] * X.shape[1]) * 100\n",
    "print(str(sparsity) + '%') "
   ]
  },
  {
   "cell_type": "markdown",
   "metadata": {},
   "source": [
    "part 6: find the top 5 answers to a testing question by comparing the testing question's cosine similarity with the questions in the data set"
   ]
  },
  {
   "cell_type": "code",
   "execution_count": 24,
   "metadata": {},
   "outputs": [],
   "source": [
    "import numpy as np\n",
    "import scipy\n",
    "from queue import PriorityQueue\n",
    "def top5results(input_q):\n",
    "    qVector = vectorizer.transform([' '.join(textPreprocessing(input_q))])\n",
    "    pq = PriorityQueue()\n",
    "    sim = (X * qVector.T).toarray()\n",
    "\n",
    "    \n",
    "    for i in range(X.shape[0]):\n",
    "        pq.put((sim[i][0],i))\n",
    "        if len(pq.queue) > 5:\n",
    "            pq.get()\n",
    "    pq_rank = sorted(pq.queue, reverse=True, key=lambda x:x[0])\n",
    "    \n",
    "    top_idxs = [x[1] for x in pq_rank]  \n",
    "                  \n",
    "\n",
    "    return [alist[i] for i in top_idxs]  "
   ]
  },
  {
   "cell_type": "code",
   "execution_count": 25,
   "metadata": {},
   "outputs": [
    {
     "name": "stdout",
     "output_type": "stream",
     "text": [
      "['Chengdu Shuangliu International Airport', 'Chengdu Shuangliu International Airport', '1991', '1985', 'aerodrome with facilities for flights to take off and land']\n",
      "['Plymouth City Airport', 'aerodrome with facilities for flights to take off and land', 'May 12', 'After the reunification', 'related']\n"
     ]
    }
   ],
   "source": [
    "# test\n",
    "print(top5results(\"Which airport was shut down?\")) \n",
    "print(top5results(\"Which airport is closed?\"))"
   ]
  },
  {
   "cell_type": "markdown",
   "metadata": {},
   "source": [
    "time complexity: O(ND)， space complexity: O(ND)\n",
    "N refers to the number of questions in the data set\n",
    "D refers to the size of the dictionary\n",
    "We calculate the cosin-similarity with the D time complexity\n",
    "Comparing the querried question with all N questions in data set is in time complexity N"
   ]
  },
  {
   "cell_type": "markdown",
   "metadata": {},
   "source": [
    "part 7: apply the inverted index to decrease the time complexity"
   ]
  },
  {
   "cell_type": "code",
   "execution_count": 26,
   "metadata": {},
   "outputs": [],
   "source": [
    "from collections import defaultdict\n",
    "inverted_idx = defaultdict(set)\n",
    "for cur in range(len(preQList)):\n",
    "    for word in preQList[cur]:\n",
    "        inverted_idx[word].add(cur)"
   ]
  },
  {
   "cell_type": "code",
   "execution_count": 28,
   "metadata": {},
   "outputs": [
    {
     "data": {
      "text/plain": [
       "{0,\n",
       " 1,\n",
       " 2,\n",
       " 3,\n",
       " 4,\n",
       " 15,\n",
       " 16,\n",
       " 17,\n",
       " 18,\n",
       " 19,\n",
       " 21,\n",
       " 30,\n",
       " 31,\n",
       " 32,\n",
       " 33,\n",
       " 34,\n",
       " 39,\n",
       " 40,\n",
       " 41,\n",
       " 42,\n",
       " 43,\n",
       " 44,\n",
       " 45,\n",
       " 46,\n",
       " 52,\n",
       " 53,\n",
       " 54,\n",
       " 55,\n",
       " 56,\n",
       " 58,\n",
       " 63,\n",
       " 66,\n",
       " 67,\n",
       " 68,\n",
       " 69,\n",
       " 70,\n",
       " 78,\n",
       " 79,\n",
       " 83,\n",
       " 89,\n",
       " 91,\n",
       " 92,\n",
       " 93,\n",
       " 94,\n",
       " 101,\n",
       " 110,\n",
       " 111,\n",
       " 112,\n",
       " 113,\n",
       " 115,\n",
       " 117,\n",
       " 125,\n",
       " 126,\n",
       " 128,\n",
       " 130,\n",
       " 131,\n",
       " 141,\n",
       " 149,\n",
       " 153,\n",
       " 154,\n",
       " 160,\n",
       " 161,\n",
       " 163,\n",
       " 164,\n",
       " 166,\n",
       " 167,\n",
       " 173,\n",
       " 175,\n",
       " 176,\n",
       " 177,\n",
       " 179,\n",
       " 180,\n",
       " 187,\n",
       " 188,\n",
       " 189,\n",
       " 190,\n",
       " 191,\n",
       " 192,\n",
       " 193,\n",
       " 200,\n",
       " 201,\n",
       " 202,\n",
       " 203,\n",
       " 204,\n",
       " 205,\n",
       " 206,\n",
       " 207,\n",
       " 209,\n",
       " 214,\n",
       " 215,\n",
       " 216,\n",
       " 217,\n",
       " 225,\n",
       " 226,\n",
       " 227,\n",
       " 228,\n",
       " 229,\n",
       " 230,\n",
       " 233,\n",
       " 238,\n",
       " 240,\n",
       " 241,\n",
       " 242,\n",
       " 244,\n",
       " 251,\n",
       " 252,\n",
       " 253,\n",
       " 255,\n",
       " 265,\n",
       " 266,\n",
       " 276,\n",
       " 277,\n",
       " 278,\n",
       " 279,\n",
       " 281,\n",
       " 283,\n",
       " 289,\n",
       " 290,\n",
       " 292,\n",
       " 293,\n",
       " 299,\n",
       " 300,\n",
       " 301,\n",
       " 302,\n",
       " 303,\n",
       " 304,\n",
       " 305,\n",
       " 306,\n",
       " 309,\n",
       " 314,\n",
       " 315,\n",
       " 316,\n",
       " 317,\n",
       " 323,\n",
       " 324,\n",
       " 325,\n",
       " 326,\n",
       " 327,\n",
       " 329,\n",
       " 330,\n",
       " 336,\n",
       " 337,\n",
       " 350,\n",
       " 360,\n",
       " 361,\n",
       " 362,\n",
       " 370,\n",
       " 371,\n",
       " 372,\n",
       " 379,\n",
       " 381,\n",
       " 383,\n",
       " 391,\n",
       " 392,\n",
       " 395,\n",
       " 396,\n",
       " 397,\n",
       " 398,\n",
       " 399,\n",
       " 400,\n",
       " 403,\n",
       " 408,\n",
       " 409,\n",
       " 410,\n",
       " 411,\n",
       " 412,\n",
       " 413,\n",
       " 414,\n",
       " 420,\n",
       " 421,\n",
       " 422,\n",
       " 423,\n",
       " 424,\n",
       " 425,\n",
       " 433,\n",
       " 435,\n",
       " 443,\n",
       " 444,\n",
       " 445,\n",
       " 446,\n",
       " 454,\n",
       " 455,\n",
       " 456,\n",
       " 457,\n",
       " 458,\n",
       " 466,\n",
       " 467,\n",
       " 468,\n",
       " 473,\n",
       " 474,\n",
       " 475,\n",
       " 476,\n",
       " 485,\n",
       " 486,\n",
       " 489,\n",
       " 492,\n",
       " 497,\n",
       " 498,\n",
       " 499,\n",
       " 505,\n",
       " 506,\n",
       " 507,\n",
       " 508,\n",
       " 515,\n",
       " 516,\n",
       " 517,\n",
       " 518,\n",
       " 519,\n",
       " 526,\n",
       " 527,\n",
       " 528,\n",
       " 529,\n",
       " 530,\n",
       " 531,\n",
       " 539,\n",
       " 540,\n",
       " 541,\n",
       " 546,\n",
       " 547,\n",
       " 548,\n",
       " 549,\n",
       " 554,\n",
       " 555,\n",
       " 556,\n",
       " 557,\n",
       " 558,\n",
       " 564,\n",
       " 565,\n",
       " 566,\n",
       " 574,\n",
       " 575,\n",
       " 576,\n",
       " 578,\n",
       " 586,\n",
       " 587,\n",
       " 588,\n",
       " 590,\n",
       " 591,\n",
       " 592,\n",
       " 601,\n",
       " 602,\n",
       " 603,\n",
       " 606,\n",
       " 610,\n",
       " 611,\n",
       " 612,\n",
       " 613,\n",
       " 615,\n",
       " 625,\n",
       " 626,\n",
       " 627,\n",
       " 628,\n",
       " 629,\n",
       " 630,\n",
       " 631,\n",
       " 638,\n",
       " 639,\n",
       " 640,\n",
       " 641,\n",
       " 642,\n",
       " 643,\n",
       " 650,\n",
       " 652,\n",
       " 655,\n",
       " 657,\n",
       " 663,\n",
       " 664,\n",
       " 665,\n",
       " 666,\n",
       " 674,\n",
       " 677,\n",
       " 683,\n",
       " 685,\n",
       " 692,\n",
       " 693,\n",
       " 694,\n",
       " 695,\n",
       " 696,\n",
       " 697,\n",
       " 698,\n",
       " 699,\n",
       " 703,\n",
       " 704,\n",
       " 705,\n",
       " 706,\n",
       " 707,\n",
       " 708,\n",
       " 714,\n",
       " 715,\n",
       " 717,\n",
       " 722,\n",
       " 723,\n",
       " 725,\n",
       " 726,\n",
       " 731,\n",
       " 732,\n",
       " 733,\n",
       " 734,\n",
       " 735,\n",
       " 741,\n",
       " 742,\n",
       " 743,\n",
       " 745}"
      ]
     },
     "execution_count": 28,
     "metadata": {},
     "output_type": "execute_result"
    }
   ],
   "source": [
    "inverted_idx['beyonc']"
   ]
  },
  {
   "cell_type": "code",
   "execution_count": 35,
   "metadata": {},
   "outputs": [],
   "source": [
    "def top5results_invidx(input_q):\n",
    "    preInputQ = textPreprocessing(input_q)\n",
    "    candidate = set()\n",
    "    for word in preInputQ:\n",
    "        candidate = candidate | inverted_idx[word]\n",
    "    candidate = list(candidate)\n",
    "    \n",
    "    qVector = vectorizer.transform([' '.join(preInputQ)])\n",
    "    sim = (X[candidate] * qVector.T).toarray()\n",
    "    pq = PriorityQueue()\n",
    "    for cur in range(sim.shape[0]):\n",
    "        pq.put((sim[cur][0], candidate[cur]))\n",
    "        if len(pq.queue) > 5:\n",
    "            pq.get()\n",
    "    pq_rank = sorted(pq.queue, reverse=True, key=lambda x: x[0])\n",
    "    top_idxs = [x[1] for x in pq_rank]\n",
    "    return [alist[i] for i in top_idxs]    "
   ]
  },
  {
   "cell_type": "code",
   "execution_count": 36,
   "metadata": {},
   "outputs": [
    {
     "name": "stdout",
     "output_type": "stream",
     "text": [
      "['Chengdu Shuangliu International Airport', 'Chengdu Shuangliu International Airport', '1991', '1985', 'aerodrome with facilities for flights to take off and land']\n",
      "['Plymouth City Airport', 'May 12', 'aerodrome with facilities for flights to take off and land', 'After the reunification', 'related']\n"
     ]
    }
   ],
   "source": [
    "# test\n",
    "print(top5results_invidx(\"Which airport was shut down?\"))    # 在问题库中存在，经过对比，返回的首结果正确\n",
    "print(top5results_invidx(\"Which airport is closed?\"))"
   ]
  },
  {
   "cell_type": "markdown",
   "metadata": {},
   "source": [
    "time complexity: O(ND)， space complexity: O(ND)"
   ]
  },
  {
   "cell_type": "markdown",
   "metadata": {},
   "source": [
    "part 8: replace the tf-idf word representation with the word2vec method"
   ]
  },
  {
   "cell_type": "markdown",
   "metadata": {},
   "source": [
    "In the above part, we use the bag-of-words model. But this model can not consider the similarity between words and the representation vector is sparse. In the following part, we use the word2vec model with glove.6B.100."
   ]
  },
  {
   "cell_type": "code",
   "execution_count": 37,
   "metadata": {},
   "outputs": [
    {
     "name": "stderr",
     "output_type": "stream",
     "text": [
      "<ipython-input-37-29e519ee869c>:12: DeprecationWarning: Call to deprecated `wv` (Attribute will be removed in 4.0.0, use self instead).\n",
      "  vector += model.wv[word]\n",
      "<ipython-input-37-29e519ee869c>:15: RuntimeWarning: invalid value encountered in true_divide\n",
      "  return vector / size\n"
     ]
    }
   ],
   "source": [
    "from gensim.scripts.glove2word2vec import glove2word2vec\n",
    "from gensim.models import KeyedVectors\n",
    "import numpy as np\n",
    "_ = glove2word2vec('data/glove.6B.100d.txt','data/glove2word2vec.6B.100d.txt')\n",
    "model = KeyedVectors.load_word2vec_format('data/glove2word2vec.6B.100d.txt')\n",
    "def docvec_get(seg):\n",
    "    # change the words in preQlist into vector\n",
    "    vector = np.zeros([1,100])\n",
    "    size = len(seg)\n",
    "    for word in seg:\n",
    "        try:\n",
    "            vector += model.wv[word]\n",
    "        except KeyError:\n",
    "            size -= 1\n",
    "    return vector / size\n",
    "X = np.zeros([len(preQList), 100])\n",
    "for cur in range(X.shape[0]):\n",
    "    X[cur] = docvec_get(preQList[cur])\n",
    "Xnorm2 = np.linalg.norm(X,axis=1,keepdims=True)\n",
    "X/=Xnorm2"
   ]
  },
  {
   "cell_type": "code",
   "execution_count": 38,
   "metadata": {},
   "outputs": [],
   "source": [
    "def top5results_emb(input_q):\n",
    "    seg = textPreprocessing(input_q)\n",
    "    candidate = set()\n",
    "    for word in seg:\n",
    "        candidate = candidate | inverted_idx[word]\n",
    "    candidate = list(candidate)\n",
    "    qVector = docvec_get(seg)\n",
    "    qnorm2 = np.linalg.norm(qVector,axis=1,keepdims=True)\n",
    "    qVector/=qnorm2\n",
    "   \n",
    "    sim = (X[candidate] @ qVector.T)\n",
    "  \n",
    "    pq = PriorityQueue()\n",
    "    for cur in range(sim.shape[0]):\n",
    "        pq.put((sim[cur][0],candidate[cur]))\n",
    "        if len(pq.queue) > 5:\n",
    "            pq.get()\n",
    "    pq_rank = sorted(pq.queue, reverse=True, key=lambda x: x[0])\n",
    "    print([x[0] for x in pq_rank])\n",
    "    top_idxs = [x[1] for x in pq_rank]\n",
    "    return [alist[i] for i in top_idxs]\n"
   ]
  },
  {
   "cell_type": "code",
   "execution_count": 39,
   "metadata": {},
   "outputs": [
    {
     "name": "stdout",
     "output_type": "stream",
     "text": [
      "[1.0, 1.0, 0.8980219398331406, 0.8875869259222657, 0.8826214612899687]\n",
      "['Chengdu Shuangliu International Airport', 'Chengdu Shuangliu International Airport', 'Impregilo', 'Terminal C', 'Nanjing Dajiaochang Airport']\n",
      "[0.9454294862808651, 0.897533314447132, 0.8921468921909476, 0.8917413888585661, 0.8866939369431388]\n",
      "['Plymouth City Airport', 'Norwood Memorial Airport', 'Beverly Municipal Airport', 'Dushanbe International Airport', 'Lukou International Airport']\n"
     ]
    },
    {
     "name": "stderr",
     "output_type": "stream",
     "text": [
      "<ipython-input-37-29e519ee869c>:12: DeprecationWarning: Call to deprecated `wv` (Attribute will be removed in 4.0.0, use self instead).\n",
      "  vector += model.wv[word]\n"
     ]
    }
   ],
   "source": [
    "#test\n",
    "print(top5results_emb(\"Which airport was shut down?\"))\n",
    "print(top5results_emb(\"Which airport is closed?\"))"
   ]
  },
  {
   "cell_type": "code",
   "execution_count": null,
   "metadata": {},
   "outputs": [],
   "source": []
  }
 ],
 "metadata": {
  "kernelspec": {
   "display_name": "Python 3",
   "language": "python",
   "name": "python3"
  },
  "language_info": {
   "codemirror_mode": {
    "name": "ipython",
    "version": 3
   },
   "file_extension": ".py",
   "mimetype": "text/x-python",
   "name": "python",
   "nbconvert_exporter": "python",
   "pygments_lexer": "ipython3",
   "version": "3.8.3"
  }
 },
 "nbformat": 4,
 "nbformat_minor": 4
}
